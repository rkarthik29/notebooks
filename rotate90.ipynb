{
 "cells": [
  {
   "cell_type": "code",
   "execution_count": 8,
   "metadata": {},
   "outputs": [],
   "source": [
    "# Function to pr the matrix \n",
    "def displayMatrix(mat,N): \n",
    "      \n",
    "    for i in range(0, N): \n",
    "          \n",
    "        for j in range(0, N): \n",
    "              \n",
    "            print (mat[i][j], end = ' ') \n",
    "        print (\"\") \n",
    "\n",
    "def rotateArray90(arr,n):\n",
    "    mid= int(n/2)\n",
    "    for j in range(0,mid):\n",
    "        for i in range(j,n-j-1):\n",
    "            temp=arr[j][i]#0,1\n",
    "            arr[j][i]=arr[i][n-1-j]#1,0=1,2\n",
    "            arr[i][n-1-j]=arr[n-1-j][n-1-i]#1,3=3,2\n",
    "            arr[n-1-j][n-1-i]=arr[n-1-i][j]#3,2=3,1\n",
    "            arr[n-1-i][j]=temp#3,0=0,0"
   ]
  },
  {
   "cell_type": "code",
   "execution_count": 9,
   "metadata": {},
   "outputs": [
    {
     "name": "stdout",
     "output_type": "stream",
     "text": [
      "1 2 \n",
      "5 6 \n"
     ]
    }
   ],
   "source": [
    "# Driver Code \n",
    "mat = [[0 for x in range(4)] for y in range(4)] \n",
    "  \n",
    "# Test case 1 \n",
    "mat = [ [1, 2, 3, 4 ], \n",
    "        [5, 6, 7, 8 ], \n",
    "        [9, 10, 11, 12 ], \n",
    "        [13, 14, 15, 16 ] ]\n",
    "\n",
    "mat1 = [ [1, 2, 3 ], \n",
    "        [5, 6, 7 ], \n",
    "        [9, 10, 11]]\n",
    "\n",
    "mat2 = [ [1, 2], \n",
    "        [5, 6]]\n",
    "displayMatrix(mat2,len(mat2))\n",
    "rotateArray90(mat2,len(mat2))"
   ]
  },
  {
   "cell_type": "code",
   "execution_count": 10,
   "metadata": {},
   "outputs": [
    {
     "name": "stdout",
     "output_type": "stream",
     "text": [
      "2 6 \n",
      "1 5 \n"
     ]
    }
   ],
   "source": [
    "displayMatrix(mat2,len(mat2))"
   ]
  },
  {
   "cell_type": "code",
   "execution_count": null,
   "metadata": {},
   "outputs": [],
   "source": []
  }
 ],
 "metadata": {
  "kernelspec": {
   "display_name": "Python 3",
   "language": "python",
   "name": "python3"
  },
  "language_info": {
   "codemirror_mode": {
    "name": "ipython",
    "version": 3
   },
   "file_extension": ".py",
   "mimetype": "text/x-python",
   "name": "python",
   "nbconvert_exporter": "python",
   "pygments_lexer": "ipython3",
   "version": "3.6.5"
  }
 },
 "nbformat": 4,
 "nbformat_minor": 2
}
