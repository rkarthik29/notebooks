{
 "cells": [
  {
   "cell_type": "code",
   "execution_count": null,
   "metadata": {},
   "outputs": [],
   "source": [
    "import json\n",
    "import java.io\n",
    "import random\n",
    "from org.apache.commons.io import IOUtils\n",
    "from java.nio.charset import StandardCharsets\n",
    "from org.apache.nifi.processor.io import StreamCallback\n",
    "from java.lang import System as javasystem\n",
    "import datetime as dt\n",
    "\n",
    "class PyStreamCallback(StreamCallback):\n",
    "  def __init__(self):\n",
    "        pass\n",
    "  def process(self, inputStream, outputStream):\n",
    "    text = IOUtils.toString(inputStream, StandardCharsets.UTF_8)\n",
    "    newObj={}\n",
    "    element=[\"old settler\",\"windville\"]\n",
    "    newObj[\"Element\"]=random.choice(element)\n",
    "    timeStamp=javasystem. currentTimeMillis()\n",
    "    newObj[\"timestamp\"]=timeStamp\n",
    "    newObj[\"Generation_MWh\"]=round(random.uniform(0,2),2)\n",
    "    newObj[\"DA_Awards\"]=round(random.uniform(0,2),2)\n",
    "    newObj[\"DA_LMP\"]=round(random.uniform(0,2),2)\n",
    "    newObj[\"RT_LMP\"]=round(random.uniform(0,2),2)\n",
    "    newObj[\"Optimization_$\"]=round(random.uniform(0,2),2)\n",
    "    newObj[\"Gen_Wtd_RT_SPP\"]=round(random.uniform(0,2),2)\n",
    "    hour=dt.datetime.now().hour\n",
    "    if(hour < 10):\n",
    "        newObj[\"flowhour\"]=\"0{}:00\".format(hour)\n",
    "    else:\n",
    "        newObj[\"flowhour\"]=\"{}:00\".format(hour)\n",
    "    outputStream.write(bytearray(json.dumps(newObj, indent=4).encode('utf-8'))) \n",
    "\n",
    "flowFile = session.get()\n",
    "if (flowFile != None):\n",
    "    flowFile = session.write(flowFile,PyStreamCallback())\n",
    "    session.transfer(flowFile, REL_SUCCESS)"
   ]
  },
  {
   "cell_type": "code",
   "execution_count": 8,
   "metadata": {},
   "outputs": [],
   "source": [
    "import json\n",
    "#import java.io\n",
    "import random\n",
    "#from org.apache.commons.io import IOUtils\n",
    "#from java.nio.charset import StandardCharsets\n",
    "#from org.apache.nifi.processor.io import StreamCallback\n",
    "#from java.lang import System as javasystem\n",
    "import datetime as dt\n",
    "\n",
    "newObj={}\n",
    "element=[\"old settler\",\"windville\"]\n",
    "newObj[\"Element\"]=random.choice(element)\n",
    "timeStamp=javasystem. currentTimeMillis()\n",
    "newObj[\"timestamp\"]=timeStamp\n",
    "newObj[\"Generation_MWh\"]=round(random.uniform(0,2),2)\n",
    "newObj[\"DA_Awards\"]=round(random.uniform(0,2),2)\n",
    "newObj[\"DA_LMP\"]=round(random.uniform(0,2),2)\n",
    "newObj[\"RT_LMP\"]=round(random.uniform(0,2),2)\n",
    "newObj[\"Optimization_$\"]=round(random.uniform(0,2),2)\n",
    "newObj[\"Gen_Wtd_RT_SPP\"]=round(random.uniform(0,2),2)\n",
    "hour=dt.datetime.now().hour\n",
    "if(hour < 10):\n",
    "    newObj[\"flowhour\"]=\"0{}:00\".format(hour)\n",
    "else:\n",
    "    newObj[\"flowhour\"]=\"{}:00\".format(hour)"
   ]
  },
  {
   "cell_type": "code",
   "execution_count": 9,
   "metadata": {},
   "outputs": [
    {
     "name": "stdout",
     "output_type": "stream",
     "text": [
      "{\"Element\": \"windville\", \"Generation_MWh\": 1.79, \"DA_Awards\": 0.28, \"DA_LMP\": 0.39, \"RT_LMP\": 0.38, \"Optimization_$\": 0.72, \"Gen_Wtd_RT_SPP\": 1.48, \"flowhour\": \"15:00\"}\n"
     ]
    }
   ],
   "source": [
    "print(json.dumps(newObj))"
   ]
  },
  {
   "cell_type": "code",
   "execution_count": null,
   "metadata": {},
   "outputs": [],
   "source": []
  }
 ],
 "metadata": {
  "kernelspec": {
   "display_name": "Python 3",
   "language": "python",
   "name": "python3"
  },
  "language_info": {
   "codemirror_mode": {
    "name": "ipython",
    "version": 3
   },
   "file_extension": ".py",
   "mimetype": "text/x-python",
   "name": "python",
   "nbconvert_exporter": "python",
   "pygments_lexer": "ipython3",
   "version": "3.6.5"
  }
 },
 "nbformat": 4,
 "nbformat_minor": 2
}
