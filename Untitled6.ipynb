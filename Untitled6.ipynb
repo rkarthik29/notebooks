{
 "cells": [
  {
   "cell_type": "code",
   "execution_count": 14,
   "metadata": {},
   "outputs": [
    {
     "name": "stdout",
     "output_type": "stream",
     "text": [
      "4000\n"
     ]
    }
   ],
   "source": [
    "import math\n",
    "import os\n",
    "import random\n",
    "import re\n",
    "import sys\n",
    "\n",
    "# Complete the arrayManipulation function below.\n",
    "def arrayManipulation(n, queries):\n",
    "    print(n)\n",
    "    data=[0]*(n+1)\n",
    "    for query in queries:\n",
    "        start=query[0]\n",
    "        end=query[1]\n",
    "        value=query[2]\n",
    "        data[start]=data[start]+value\n",
    "        if(end<n):\n",
    "            data[end+1]=data[end+1]-value\n",
    "    max=0\n",
    "    x=0\n",
    "    for i in range(1,n+1):\n",
    "        x=x+data[i]\n",
    "        if(x > max):\n",
    "            max=x\n",
    "    return max\n",
    "\n",
    "if __name__ == '__main__':\n",
    "    n=0\n",
    "    m=0\n",
    "    queries=[]\n",
    "    with open(\"/tmp/arry_input.txt\",\"r\") as f:\n",
    "        linNum=0\n",
    "        for line in f:\n",
    "            if(linNum==0):\n",
    "                n=int(line.split(\" \")[0])\n",
    "                m=int(line.split(\" \")[1])\n",
    "                linNum=1\n",
    "            else:\n",
    "                queries.append(list(map(int, line.rstrip().split())))\n",
    "\n",
    "    result = arrayManipulation(n, queries)"
   ]
  },
  {
   "cell_type": "code",
   "execution_count": 15,
   "metadata": {},
   "outputs": [
    {
     "name": "stdout",
     "output_type": "stream",
     "text": [
      "7542539201\n"
     ]
    }
   ],
   "source": [
    "print(result)"
   ]
  },
  {
   "cell_type": "code",
   "execution_count": null,
   "metadata": {},
   "outputs": [],
   "source": []
  }
 ],
 "metadata": {
  "kernelspec": {
   "display_name": "Python 3",
   "language": "python",
   "name": "python3"
  },
  "language_info": {
   "codemirror_mode": {
    "name": "ipython",
    "version": 3
   },
   "file_extension": ".py",
   "mimetype": "text/x-python",
   "name": "python",
   "nbconvert_exporter": "python",
   "pygments_lexer": "ipython3",
   "version": "3.6.5"
  }
 },
 "nbformat": 4,
 "nbformat_minor": 2
}
