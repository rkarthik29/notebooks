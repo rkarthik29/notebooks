{
 "cells": [
  {
   "cell_type": "code",
   "execution_count": null,
   "metadata": {},
   "outputs": [],
   "source": [
    "import random\n",
    "import json\n",
    "products={\"household\":[\"mattress\",\"counch\",\"furniture\",\"decor\"],\n",
    "          \"garden\":[\"mulch\",\"flowers\",\"fertilizer\"]\n",
    "          ,\"lighting\":[\"bulbs\",\"fan\",\"wiring\",\"lamps\",\"lighting\"]\n",
    "          ,\"appliance\":[\"refridgerator\",\"washing machine\",\"dryer\",\"range\",\"dishwasher\"]\n",
    "          ,\"hardware\":[\"nails\",\"screws\",\"paints\",\"lumber\"]\n",
    "         }\n",
    "newObj = {\n",
    "   \"id\":str(random.choice(range(100001,700000))),\n",
    "   \"age\": random.choice(range(16,70)),\n",
    "   \"category\": random.choice([\"household\",\"garden\",\"lighting\",\"appliance\",\"hardware\"]),\n",
    "   \"product\": random.choice(products[newObj[\"category\"]]),\n",
    "   \"recommended\": True,\n",
    "   \"viewed\": False,\n",
    "   \"clicked\": False\n",
    "    }\n",
    "print(json.dumps(newObj))"
   ]
  },
  {
   "cell_type": "code",
   "execution_count": null,
   "metadata": {},
   "outputs": [],
   "source": [
    "import json\n",
    "import java.io\n",
    "import random\n",
    "from org.apache.commons.io import IOUtils\n",
    "from java.nio.charset import StandardCharsets\n",
    "from org.apache.nifi.processor.io import StreamCallback\n",
    "\n",
    "class PyStreamCallback(StreamCallback):\n",
    "  def __init__(self):\n",
    "        pass\n",
    "  def process(self, inputStream, outputStream):\n",
    "    text = IOUtils.toString(inputStream, StandardCharsets.UTF_8)\n",
    "    products={\"household\":[\"mattress\",\"counch\",\"furniture\",\"decor\"],\n",
    "          \"garden\":[\"mulch\",\"flowers\",\"fertilizer\"]\n",
    "          ,\"lighting\":[\"bulbs\",\"fan\",\"wiring\",\"lamps\",\"lighting\"]\n",
    "          ,\"appliance\":[\"refridgerator\",\"washing machine\",\"dryer\",\"range\",\"dishwasher\"]\n",
    "          ,\"hardware\":[\"nails\",\"screws\",\"paints\",\"lumber\"]\n",
    "         }\n",
    "    newObj = {\n",
    "       \"id\":str(random.choice(range(100001,700000))),\n",
    "       \"age\": random.choice(range(16,70)),\n",
    "       \"category\": random.choice([\"household\",\"garden\",\"lighting\",\"appliance\",\"hardware\"]),\n",
    "       \"recommended\": True,\n",
    "       \"viewed\": False,\n",
    "       \"clicked\": False\n",
    "        }\n",
    "    newObj[\"product\"]=random.choice(products[newObj[\"category\"]])\n",
    "    outputStream.write(bytearray(json.dumps(newObj, indent=4).encode('utf-8'))) \n",
    "\n",
    "flowFile = session.get()\n",
    "if (flowFile != None):\n",
    "    flowFile = session.write(flowFile,PyStreamCallback())\n",
    "    session.transfer(flowFile, REL_SUCCESS)"
   ]
  },
  {
   "cell_type": "code",
   "execution_count": null,
   "metadata": {},
   "outputs": [],
   "source": [
    "import json\n",
    "import java.io\n",
    "import random\n",
    "import time\n",
    "from org.apache.commons.io import IOUtils\n",
    "from java.net import InetAddress\n",
    "from java.nio.charset import StandardCharsets\n",
    "from org.apache.nifi.processor.io import StreamCallback\n",
    "from java.lang import System as javasystem\n",
    "from datetime import datetime\n",
    "from datetime import timedelta\n",
    "import string\n",
    "import calendar\n",
    "\n",
    "class GenerateEnquiryRecord(StreamCallback):\n",
    "    def __init__(self):\n",
    "            pass\n",
    "    def process(self, inputStream, outputStream):\n",
    "        text = IOUtils.toString(inputStream, StandardCharsets.UTF_8)\n",
    "        stime = time.mktime(time.strptime(\"01-01-2018\", \"%m-%d-%Y\"))\n",
    "        etime = time.mktime(time.strptime(\"08-10-2018\", \"%m-%d-%Y\"))\n",
    "        ptime = stime + random.random() * (etime - stime)\n",
    "        str_date_of_depoist = time.strftime('%m-%d-%Y', time.localtime(ptime))\n",
    "        date_of_deposit = datetime.strptime(str_date_of_depoist, \"%m-%d-%Y\")\n",
    "        date_of_deposit_time = long(time.mktime(date_of_deposit.timetuple()) * 1000)\n",
    "\n",
    "\n",
    "\n",
    "        newObj = {\n",
    "           \"Account_Number\" : random.randint(100000, 999999),\n",
    "           \"SSN\" : str(random.randint(100,999))+\"-\"+str(random.randint(10,99))+\"-\"+str(random.randint(1000,9999)),\n",
    "           \"FirstName\" : ''.join(random.choice(string.ascii_uppercase + string.digits) for _ in range(5)),\n",
    "           \"LastName\" : ''.join(random.choice(string.ascii_uppercase + string.digits) for _ in range(4)),\n",
    "           \"BranchCode\" : ''.join(random.choice(string.ascii_uppercase + string.digits) for _ in range(3)),\n",
    "           \"Country\" : str(random.choice([\"US\",\"UK\",\"INDIA\",\"FRANCE\",\"CANADA\"])),\n",
    "           \"Deposit_dt\" : date_of_deposit.strftime(\"%m-%d-%Y\"),\n",
    "           \"Deposit_dt_timestamp\" : date_of_deposit_time\n",
    "        }\n",
    "\n",
    "        newObj[\"timestamp\"]=javasystem.currentTimeMillis()\n",
    "\n",
    "        outputStream.write(bytearray(json.dumps(newObj, indent=4).encode('utf-8')))\n",
    "\n",
    "flowFile = session.get()\n",
    "if (flowFile != None):\n",
    "    flowFile=session.write(flowFile,GenerateEnquiryRecord())\n",
    "    session.transfer(flowFile, REL_SUCCESS)"
   ]
  },
  {
   "cell_type": "code",
   "execution_count": 8,
   "metadata": {},
   "outputs": [
    {
     "name": "stdout",
     "output_type": "stream",
     "text": [
      "0.03\n"
     ]
    }
   ],
   "source": [
    "import random\n",
    "number=['0']\n",
    "decimal=range(0,9)\n",
    "    \n",
    "consumed_kwh=random.choice(number)+\".\"+str(random.choice(decimal))+str(random.choice(decimal))\n",
    "print(customer_id)"
   ]
  },
  {
   "cell_type": "code",
   "execution_count": 10,
   "metadata": {},
   "outputs": [
    {
     "ename": "ModuleNotFoundError",
     "evalue": "No module named 'org'",
     "output_type": "error",
     "traceback": [
      "\u001b[0;31m---------------------------------------------------------------------------\u001b[0m",
      "\u001b[0;31mModuleNotFoundError\u001b[0m                       Traceback (most recent call last)",
      "\u001b[0;32m<ipython-input-10-a2051e1c84ce>\u001b[0m in \u001b[0;36m<module>\u001b[0;34m()\u001b[0m\n\u001b[1;32m      3\u001b[0m \u001b[0;32mimport\u001b[0m \u001b[0mrandom\u001b[0m\u001b[0;34m\u001b[0m\u001b[0m\n\u001b[1;32m      4\u001b[0m \u001b[0;32mimport\u001b[0m \u001b[0msocket\u001b[0m\u001b[0;34m\u001b[0m\u001b[0m\n\u001b[0;32m----> 5\u001b[0;31m \u001b[0;32mfrom\u001b[0m \u001b[0morg\u001b[0m\u001b[0;34m.\u001b[0m\u001b[0mapache\u001b[0m\u001b[0;34m.\u001b[0m\u001b[0mcommons\u001b[0m\u001b[0;34m.\u001b[0m\u001b[0mio\u001b[0m \u001b[0;32mimport\u001b[0m \u001b[0mIOUtils\u001b[0m\u001b[0;34m\u001b[0m\u001b[0m\n\u001b[0m\u001b[1;32m      6\u001b[0m \u001b[0;32mfrom\u001b[0m \u001b[0mjava\u001b[0m\u001b[0;34m.\u001b[0m\u001b[0mnio\u001b[0m\u001b[0;34m.\u001b[0m\u001b[0mcharset\u001b[0m \u001b[0;32mimport\u001b[0m \u001b[0mStandardCharsets\u001b[0m\u001b[0;34m\u001b[0m\u001b[0m\n\u001b[1;32m      7\u001b[0m \u001b[0;32mfrom\u001b[0m \u001b[0morg\u001b[0m\u001b[0;34m.\u001b[0m\u001b[0mapache\u001b[0m\u001b[0;34m.\u001b[0m\u001b[0mnifi\u001b[0m\u001b[0;34m.\u001b[0m\u001b[0mprocessor\u001b[0m\u001b[0;34m.\u001b[0m\u001b[0mio\u001b[0m \u001b[0;32mimport\u001b[0m \u001b[0mStreamCallback\u001b[0m\u001b[0;34m\u001b[0m\u001b[0m\n",
      "\u001b[0;31mModuleNotFoundError\u001b[0m: No module named 'org'"
     ]
    }
   ],
   "source": [
    "import json\n",
    "import java.io\n",
    "import random\n",
    "from org.apache.commons.io import IOUtils\n",
    "from java.nio.charset import StandardCharsets\n",
    "from org.apache.nifi.processor.io import StreamCallback\n",
    "from java.lang import System as javasystem\n",
    "\n",
    "class PyStreamCallback(StreamCallback):\n",
    "  def __init__(self):\n",
    "        pass\n",
    "  def process(self, inputStream, outputStream):\n",
    "    meter_id=IOUtils.toString(inputStream, StandardCharsets.UTF_8)\n",
    "    led_status=['Red','Green']\n",
    "    number=['0']\n",
    "    decimal=range(0,9)\n",
    "    consumed_kwh=random.choice(number)+\".\"+str(random.choice(decimal))+str(random.choice(decimal))\n",
    "    newObj = {\n",
    "       \"meter_id\":meter_id,\n",
    "       \"led_status\": random.choice(led_status),\n",
    "       \"consumed_energy\":consumed_kwh\n",
    "        }\n",
    "    outputStream.write(bytearray((json.dumps(newObj)+\"\\n\").encode('utf-8'))) \n",
    "\n",
    "flowFile = session.get()\n",
    "if (flowFile != None):\n",
    "    flowFile = session.write(flowFile,PyStreamCallback())\n",
    "    session.transfer(flowFile, REL_SUCCESS)"
   ]
  },
  {
   "cell_type": "code",
   "execution_count": null,
   "metadata": {},
   "outputs": [],
   "source": []
  }
 ],
 "metadata": {
  "kernelspec": {
   "display_name": "Python 3",
   "language": "python",
   "name": "python3"
  },
  "language_info": {
   "codemirror_mode": {
    "name": "ipython",
    "version": 3
   },
   "file_extension": ".py",
   "mimetype": "text/x-python",
   "name": "python",
   "nbconvert_exporter": "python",
   "pygments_lexer": "ipython3",
   "version": "3.6.5"
  }
 },
 "nbformat": 4,
 "nbformat_minor": 2
}
