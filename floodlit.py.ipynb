{
 "cells": [
  {
   "cell_type": "code",
   "execution_count": 31,
   "metadata": {},
   "outputs": [
    {
     "ename": "TypeError",
     "evalue": "unhashable type: 'list'",
     "output_type": "error",
     "traceback": [
      "\u001b[0;31m---------------------------------------------------------------------------\u001b[0m",
      "\u001b[0;31mTypeError\u001b[0m                                 Traceback (most recent call last)",
      "\u001b[0;32m<ipython-input-31-ad1750652848>\u001b[0m in \u001b[0;36m<module>\u001b[0;34m()\u001b[0m\n\u001b[1;32m     38\u001b[0m     \u001b[0;32mfor\u001b[0m \u001b[0mitem\u001b[0m \u001b[0;32min\u001b[0m \u001b[0mcolors\u001b[0m\u001b[0;34m:\u001b[0m\u001b[0;34m\u001b[0m\u001b[0m\n\u001b[1;32m     39\u001b[0m         \u001b[0;32mreturn\u001b[0m \u001b[0mitem\u001b[0m\u001b[0;34m\u001b[0m\u001b[0m\n\u001b[0;32m---> 40\u001b[0;31m \u001b[0mcolors\u001b[0m\u001b[0;34m=\u001b[0m\u001b[0;34m{\u001b[0m\u001b[0;36m1\u001b[0m\u001b[0;34m,\u001b[0m\u001b[0;34m[\u001b[0m\u001b[0;34m(\u001b[0m\u001b[0;36m0\u001b[0m\u001b[0;34m,\u001b[0m\u001b[0;36m0\u001b[0m\u001b[0;34m)\u001b[0m\u001b[0;34m]\u001b[0m\u001b[0;34m}\u001b[0m\u001b[0;34m\u001b[0m\u001b[0m\n\u001b[0m\u001b[1;32m     41\u001b[0m \u001b[0;34m\u001b[0m\u001b[0m\n\u001b[1;32m     42\u001b[0m \u001b[0mprint\u001b[0m\u001b[0;34m(\u001b[0m\u001b[0mgetNextColor\u001b[0m\u001b[0;34m(\u001b[0m\u001b[0mcolors\u001b[0m\u001b[0;34m)\u001b[0m\u001b[0;34m)\u001b[0m\u001b[0;34m\u001b[0m\u001b[0m\n",
      "\u001b[0;31mTypeError\u001b[0m: unhashable type: 'list'"
     ]
    }
   ],
   "source": [
    "board=[[1,1,2],[1,2,1],[1,2,1]]\n",
    "\n",
    "n=len(board)\n",
    "\n",
    "def findNextColor(board,i,j):\n",
    "    color=board[i][j]\n",
    "    colors={}\n",
    "    if(i<n-1):\n",
    "        if(board[i+1][j]==color):\n",
    "            nextColors=findNextColor(board,i+1,j)\n",
    "            for item in nextColors:\n",
    "                if(item in colors):\n",
    "                    for loc in nextColors[item]:\n",
    "                        colors[item].append(loc)\n",
    "                else:\n",
    "                    colors[item]=nextColors[item]\n",
    "                    \n",
    "        else:\n",
    "            colors[board[i+1][j]]=[(i+1,j)]\n",
    "    if(j<n-1):\n",
    "        if(board[i][j+1]==color):\n",
    "            nextColors=findNextColor(board,i,j+1)\n",
    "            for item in nextColors:\n",
    "                print(item)\n",
    "                if(item in colors):\n",
    "                    for loc in nextColors[item]:\n",
    "                        colors[item].append(loc)\n",
    "                else:\n",
    "                    colors[item]=nextColors[item]\n",
    "        else:\n",
    "            if(board[i][j+1] in colors):\n",
    "                colors[board[i][j+1]].append((i,j+1))\n",
    "            else:\n",
    "                colors[board[i][j+1]]=[(i,j+1)]\n",
    "    return colors\n",
    "\n",
    "def getNextColor(colors):\n",
    "    for item in colors:\n",
    "        return item\n",
    "colors={1,[(0,0)]}\n",
    "\n",
    "print(getNextColor(colors))\n",
    "#while(len(start)>0):\n",
    "\n",
    "    #nextColors=findNextColor(board,loc[0],loc[1])\n",
    "    #if(item in colors):\n",
    "    #    for loc in nextColors[item]:\n",
    "    #    colors[item].append(loc)\n",
    "    #else:\n",
    "    #    colors[item]=nextColors[item]\n",
    "\n",
    "    \n",
    "    "
   ]
  },
  {
   "cell_type": "code",
   "execution_count": null,
   "metadata": {},
   "outputs": [],
   "source": []
  }
 ],
 "metadata": {
  "kernelspec": {
   "display_name": "Python 3",
   "language": "python",
   "name": "python3"
  },
  "language_info": {
   "codemirror_mode": {
    "name": "ipython",
    "version": 3
   },
   "file_extension": ".py",
   "mimetype": "text/x-python",
   "name": "python",
   "nbconvert_exporter": "python",
   "pygments_lexer": "ipython3",
   "version": "3.6.5"
  }
 },
 "nbformat": 4,
 "nbformat_minor": 2
}
