{
 "cells": [
  {
   "cell_type": "code",
   "execution_count": 32,
   "metadata": {},
   "outputs": [
    {
     "name": "stdout",
     "output_type": "stream",
     "text": [
      "{\n",
      "    \"queryType\": \"BASIC\",\n",
      "    \"searchParameters\": {\n",
      "        \"typeName\": \"hive_column\",\n",
      "        \"classification\": \"EXPIRES_ON\",\n",
      "        \"excludeDeletedEntities\": true,\n",
      "        \"includeClassificationAttributes\": false,\n",
      "        \"includeSubTypes\": true,\n",
      "        \"includeSubClassifications\": true,\n",
      "        \"limit\": 25,\n",
      "        \"offset\": 0,\n",
      "        \"attributes\": []\n",
      "    },\n",
      "    \"entities\": [\n",
      "        {\n",
      "            \"typeName\": \"hive_column\",\n",
      "            \"attributes\": {\n",
      "                \"owner\": \"hive\",\n",
      "                \"createTime\": null,\n",
      "                \"qualifiedName\": \"finance.tax_2015.fed_tax@hdp\",\n",
      "                \"name\": \"fed_tax\",\n",
      "                \"description\": null\n",
      "            },\n",
      "            \"guid\": \"86f43383-5c49-4ec6-8c7b-4563b793cea3\",\n",
      "            \"status\": \"ACTIVE\",\n",
      "            \"displayText\": \"fed_tax\",\n",
      "            \"classificationNames\": [\n",
      "                \"EXPIRES_ON\"\n",
      "            ]\n",
      "        }\n",
      "    ]\n",
      "}\n"
     ]
    }
   ],
   "source": [
    "import requests\n",
    "from requests.auth import HTTPBasicAuth\n",
    "import json\n",
    "\n",
    "atlasURL=\"http://securitysme-hortonia0.field.hortonworks.com:21000/api/atlas\"\n",
    "atlas_auth=HTTPBasicAuth('admin', 'admin')\n",
    "headers={'content-type': 'application/json'}\n",
    "searchJson=\"\"\"{\"excludeDeletedEntities\":true,\"includeSubClassifications\":true,\n",
    "\"includeSubTypes\":true,\"entityFilters\":null,\"tagFilters\":null,\n",
    "\"attributes\":[],\"limit\":25,\"offset\":0,\"typeName\":\"hive_column\",\n",
    "\"classification\":\"EXPIRES_ON\"} \n",
    " \"\"\"\n",
    "response = requests.post(atlasURL+\"/v2/search/basic\",headers=headers, \n",
    "                         auth=atlas_auth,data=searchJson)\n",
    "responseStr = response.content.decode(\"utf-8\")\n",
    "print(json.dumps(json.loads(responseStr),indent=4))"
   ]
  },
  {
   "cell_type": "code",
   "execution_count": 36,
   "metadata": {},
   "outputs": [
    {
     "name": "stdout",
     "output_type": "stream",
     "text": [
      "b''\n"
     ]
    }
   ],
   "source": [
    "classifyJson=\"\"\"{\"classification\":{\"typeName\":\"BANKING\",\n",
    "\"attributes\":{}},\"entityGuids\":[\"40ba468e-072d-4c7e-b25d-77bcfd7eae28\",\n",
    "\"789dc3f7-a7de-4ec4-b2d6-7cfbcaee25b5\",\"1695d21c-c843-4abc-9a74-6ef772a66f93\",\n",
    "\"cf56e1bf-ff14-4754-934e-215db314626c\",\"731fa36d-249a-42f7-b3d7-43195f2cb314\"]}\n",
    "\"\"\"\n",
    "response = requests.post(atlasURL+\"/v2/entity/bulk/classification\",headers=headers, \n",
    "                         auth=atlas_auth,data=classifyJson)\n",
    "print(response.content)"
   ]
  },
  {
   "cell_type": "code",
   "execution_count": 42,
   "metadata": {},
   "outputs": [
    {
     "name": "stdout",
     "output_type": "stream",
     "text": [
      "http://securitysme-hortonia0.field.hortonworks.com:21000/api/atlas/v2/entity/guid/02f74544-e371-4f3c-8483-6381953a5fe8/classification/BANKING\n",
      "204\n"
     ]
    }
   ],
   "source": [
    "guid=\"02f74544-e371-4f3c-8483-6381953a5fe8\"\n",
    "classification=\"BANKING\"\n",
    "response = requests.delete(atlasURL+\"/v2/entity/guid/\"+guid+\"/classification/\"+classification,headers=headers\n",
    "                           ,auth=atlas_auth)\n",
    "print(response.status_code)"
   ]
  },
  {
   "cell_type": "code",
   "execution_count": 43,
   "metadata": {},
   "outputs": [
    {
     "name": "stdout",
     "output_type": "stream",
     "text": [
      "b'{\"enumDefs\":[],\"structDefs\":[],\"classificationDefs\":[],\"entityDefs\":[{\"category\":\"ENTITY\",\"guid\":\"0fd9708d-d9fb-4741-8551-577413d26790\",\"createdBy\":\"admin\",\"updatedBy\":\"admin\",\"createTime\":1561673394841,\"updateTime\":1561673394841,\"version\":1,\"name\":\"rdbms1_database\",\"description\":\"rdbms_table\",\"typeVersion\":\"1.3\",\"attributeDefs\":[{\"name\":\"type\",\"typeName\":\"string\",\"isOptional\":false,\"cardinality\":\"SINGLE\",\"valuesMinCount\":1,\"valuesMaxCount\":1,\"isUnique\":false,\"isIndexable\":true},{\"name\":\"database_name\",\"typeName\":\"string\",\"isOptional\":false,\"cardinality\":\"SINGLE\",\"valuesMinCount\":1,\"valuesMaxCount\":1,\"isUnique\":false,\"isIndexable\":true},{\"name\":\"tables\",\"typeName\":\"array<rdbms_table>\",\"isOptional\":true,\"cardinality\":\"SINGLE\",\"valuesMinCount\":0,\"valuesMaxCount\":1,\"isUnique\":false,\"isIndexable\":false},{\"name\":\"database_server\",\"typeName\":\"string\",\"isOptional\":false,\"cardinality\":\"SINGLE\",\"valuesMinCount\":1,\"valuesMaxCount\":1,\"isUnique\":false,\"isIndexable\":true}],\"superTypes\":[\"DataSet\"],\"subTypes\":[]},{\"category\":\"ENTITY\",\"guid\":\"fe81813d-a528-47a5-b087-076ec454c197\",\"createdBy\":\"admin\",\"updatedBy\":\"admin\",\"createTime\":1561673394957,\"updateTime\":1561673394957,\"version\":1,\"name\":\"rdbms1_table\",\"description\":\"rdbms_table\",\"typeVersion\":\"1.3\",\"attributeDefs\":[{\"name\":\"table_name\",\"typeName\":\"string\",\"isOptional\":false,\"cardinality\":\"SINGLE\",\"valuesMinCount\":1,\"valuesMaxCount\":1,\"isUnique\":false,\"isIndexable\":true},{\"name\":\"database\",\"typeName\":\"rdbms_database\",\"isOptional\":true,\"cardinality\":\"SINGLE\",\"valuesMinCount\":0,\"valuesMaxCount\":1,\"isUnique\":false,\"isIndexable\":true},{\"name\":\"columns\",\"typeName\":\"array<rdbms_column>\",\"isOptional\":true,\"cardinality\":\"SINGLE\",\"valuesMinCount\":0,\"valuesMaxCount\":1,\"isUnique\":false,\"isIndexable\":false}],\"superTypes\":[\"DataSet\"],\"subTypes\":[]},{\"category\":\"ENTITY\",\"guid\":\"39a5cdc5-7cdf-48e2-8788-0c4ac5020492\",\"createdBy\":\"admin\",\"updatedBy\":\"admin\",\"createTime\":1561673394982,\"updateTime\":1561673394982,\"version\":1,\"name\":\"rdbms1_view\",\"description\":\"rdbms_view\",\"typeVersion\":\"1.3\",\"attributeDefs\":[{\"name\":\"view_name\",\"typeName\":\"string\",\"isOptional\":false,\"cardinality\":\"SINGLE\",\"valuesMinCount\":1,\"valuesMaxCount\":1,\"isUnique\":false,\"isIndexable\":true},{\"name\":\"database\",\"typeName\":\"rdbms_database\",\"isOptional\":true,\"cardinality\":\"SINGLE\",\"valuesMinCount\":0,\"valuesMaxCount\":1,\"isUnique\":false,\"isIndexable\":true},{\"name\":\"columns\",\"typeName\":\"array<rdbms_column>\",\"isOptional\":true,\"cardinality\":\"SINGLE\",\"valuesMinCount\":0,\"valuesMaxCount\":1,\"isUnique\":false,\"isIndexable\":false}],\"superTypes\":[\"DataSet\"],\"subTypes\":[]},{\"category\":\"ENTITY\",\"guid\":\"2d3a778e-7147-4b91-b4b2-ba1fbc3d4313\",\"createdBy\":\"admin\",\"updatedBy\":\"admin\",\"createTime\":1561673395022,\"updateTime\":1561673395022,\"version\":1,\"name\":\"rdbms1_column\",\"description\":\"rdbms_column\",\"typeVersion\":\"1.3\",\"attributeDefs\":[{\"name\":\"type\",\"typeName\":\"string\",\"isOptional\":false,\"cardinality\":\"SINGLE\",\"valuesMinCount\":1,\"valuesMaxCount\":1,\"isUnique\":false,\"isIndexable\":true},{\"name\":\"comment\",\"typeName\":\"string\",\"isOptional\":true,\"cardinality\":\"SINGLE\",\"valuesMinCount\":0,\"valuesMaxCount\":1,\"isUnique\":false,\"isIndexable\":false},{\"name\":\"position\",\"typeName\":\"int\",\"isOptional\":true,\"cardinality\":\"SINGLE\",\"valuesMinCount\":0,\"valuesMaxCount\":1,\"isUnique\":false,\"isIndexable\":false},{\"name\":\"table\",\"typeName\":\"rdbms_table\",\"isOptional\":true,\"cardinality\":\"SINGLE\",\"valuesMinCount\":0,\"valuesMaxCount\":1,\"isUnique\":false,\"isIndexable\":false}],\"superTypes\":[\"DataSet\"],\"subTypes\":[]},{\"category\":\"ENTITY\",\"guid\":\"a73a7c07-31f6-402b-8d75-6491bc03b5e2\",\"createdBy\":\"admin\",\"updatedBy\":\"admin\",\"createTime\":1561673395086,\"updateTime\":1561673395086,\"version\":1,\"name\":\"rdbms1_query\",\"description\":\"rdbms_query\",\"typeVersion\":\"1.3\",\"attributeDefs\":[{\"name\":\"query\",\"typeName\":\"string\",\"isOptional\":false,\"cardinality\":\"SINGLE\",\"valuesMinCount\":1,\"valuesMaxCount\":1,\"isUnique\":false,\"isIndexable\":true},{\"name\":\"database\",\"typeName\":\"rdbms_database\",\"isOptional\":true,\"cardinality\":\"SINGLE\",\"valuesMinCount\":0,\"valuesMaxCount\":1,\"isUnique\":false,\"isIndexable\":true}],\"superTypes\":[\"Process\"],\"subTypes\":[]}]}'\n"
     ]
    }
   ],
   "source": [
    "typeDefs=\"\"\"{\"entityDefs\":[{\"name\":\"rdbms1_database\",\"description\":\"rdbms_table\",\"typeVersion\":\"1.3\",\"attributeDefs\":[{\"name\":\"type\",\"typeName\":\"string\",\"isOptional\":false,\"cardinality\":\"SINGLE\",\"valuesMinCount\":1,\"valuesMaxCount\":1,\"isUnique\":false,\"isIndexable\":true},{\"name\":\"database_name\",\"typeName\":\"string\",\"isOptional\":false,\"cardinality\":\"SINGLE\",\"valuesMinCount\":0,\"valuesMaxCount\":1,\"isUnique\":false,\"isIndexable\":true},{\"name\":\"tables\",\"typeName\":\"array<rdbms_table>\",\"isOptional\":true,\"cardinality\":\"SINGLE\",\"valuesMinCount\":0,\"valuesMaxCount\":1,\"isUnique\":false,\"isIndexable\":false},{\"name\":\"database_server\",\"typeName\":\"string\",\"isOptional\":false,\"cardinality\":\"SINGLE\",\"valuesMinCount\":0,\"valuesMaxCount\":1,\"isUnique\":false,\"isIndexable\":true}],\"superTypes\":[\"DataSet\"],\"subTypes\":[]},{\"name\":\"rdbms1_table\",\"description\":\"rdbms_table\",\"typeVersion\":\"1.3\",\"attributeDefs\":[{\"name\":\"table_name\",\"typeName\":\"string\",\"isOptional\":false,\"cardinality\":\"SINGLE\",\"valuesMinCount\":0,\"valuesMaxCount\":1,\"isUnique\":false,\"isIndexable\":true},{\"name\":\"database\",\"typeName\":\"rdbms_database\",\"isOptional\":true,\"cardinality\":\"SINGLE\",\"valuesMinCount\":0,\"valuesMaxCount\":1,\"isUnique\":false,\"isIndexable\":true},{\"name\":\"columns\",\"typeName\":\"array<rdbms_column>\",\"isOptional\":true,\"cardinality\":\"SINGLE\",\"valuesMinCount\":0,\"valuesMaxCount\":1,\"isUnique\":false,\"isIndexable\":false}],\"superTypes\":[\"DataSet\"],\"subTypes\":[]},{\"name\":\"rdbms1_view\",\"description\":\"rdbms_view\",\"typeVersion\":\"1.3\",\"attributeDefs\":[{\"name\":\"view_name\",\"typeName\":\"string\",\"isOptional\":false,\"cardinality\":\"SINGLE\",\"valuesMinCount\":0,\"valuesMaxCount\":1,\"isUnique\":false,\"isIndexable\":true},{\"name\":\"database\",\"typeName\":\"rdbms_database\",\"isOptional\":true,\"cardinality\":\"SINGLE\",\"valuesMinCount\":0,\"valuesMaxCount\":1,\"isUnique\":false,\"isIndexable\":true},{\"name\":\"columns\",\"typeName\":\"array<rdbms_column>\",\"isOptional\":true,\"cardinality\":\"SINGLE\",\"valuesMinCount\":0,\"valuesMaxCount\":1,\"isUnique\":false,\"isIndexable\":false}],\"superTypes\":[\"DataSet\"],\"subTypes\":[]},{\"name\":\"rdbms1_column\",\"description\":\"rdbms_column\",\"typeVersion\":\"1.3\",\"attributeDefs\":[{\"name\":\"type\",\"typeName\":\"string\",\"isOptional\":false,\"cardinality\":\"SINGLE\",\"valuesMinCount\":1,\"valuesMaxCount\":1,\"isUnique\":false,\"isIndexable\":true},{\"name\":\"comment\",\"typeName\":\"string\",\"isOptional\":true,\"cardinality\":\"SINGLE\",\"valuesMinCount\":0,\"valuesMaxCount\":1,\"isUnique\":false,\"isIndexable\":false},{\"name\":\"position\",\"typeName\":\"int\",\"isOptional\":true,\"cardinality\":\"SINGLE\",\"valuesMinCount\":0,\"valuesMaxCount\":1,\"isUnique\":false,\"isIndexable\":false},{\"name\":\"table\",\"typeName\":\"rdbms_table\",\"isOptional\":true,\"cardinality\":\"SINGLE\",\"valuesMinCount\":0,\"valuesMaxCount\":1,\"isUnique\":false,\"isIndexable\":false}],\"superTypes\":[\"DataSet\"],\"subTypes\":[]},{\"name\":\"rdbms1_query\",\"description\":\"rdbms_query\",\"typeVersion\":\"1.3\",\"attributeDefs\":[{\"name\":\"query\",\"typeName\":\"string\",\"isOptional\":false,\"cardinality\":\"SINGLE\",\"valuesMinCount\":0,\"valuesMaxCount\":1,\"isUnique\":false,\"isIndexable\":true},{\"name\":\"database\",\"typeName\":\"rdbms_database\",\"isOptional\":true,\"cardinality\":\"SINGLE\",\"valuesMinCount\":0,\"valuesMaxCount\":1,\"isUnique\":false,\"isIndexable\":true}],\"superTypes\":[\"Process\"],\"subTypes\":[]}]}\"\"\"\n",
    "response = requests.post(atlasURL+\"/v2/types/typedefs\",headers=headers,auth=atlas_auth,data=typeDefs)\n",
    "print(response.content)\n",
    "                         "
   ]
  },
  {
   "cell_type": "code",
   "execution_count": 45,
   "metadata": {},
   "outputs": [
    {
     "name": "stdout",
     "output_type": "stream",
     "text": [
      "b'{\"enumDefs\":[],\"structDefs\":[],\"classificationDefs\":[{\"category\":\"CLASSIFICATION\",\"guid\":\"9cca6fc3-dc2e-464c-8e5a-f61d61315b51\",\"createdBy\":\"admin\",\"updatedBy\":\"admin\",\"createTime\":1561673909058,\"updateTime\":1561673909058,\"version\":1,\"name\":\"MyTestTag1\",\"description\":\"MyTestTag1\",\"typeVersion\":\"1.0\",\"attributeDefs\":[],\"superTypes\":[\"DATA_QUALITY\"],\"subTypes\":[]}],\"entityDefs\":[]}'\n"
     ]
    }
   ],
   "source": [
    "classificationDef=\"\"\"{\n",
    "  \"classificationDefs\": [\n",
    "    {\n",
    "      \"name\": \"MyTestTag1\",\n",
    "      \"description\": \"\",\n",
    "      \"superTypes\": [\n",
    "        \"DATA_QUALITY\"\n",
    "      ],\n",
    "      \"attributeDefs\": []\n",
    "    }\n",
    "  ],\n",
    "  \"entityDefs\": [],\n",
    "  \"enumDefs\": [],\n",
    "  \"structDefs\": []\n",
    "}\"\"\"\n",
    "response = requests.post(atlasURL+\"/v2/types/typedefs?type=classification\",headers=headers,auth=atlas_auth,data=classificationDef)\n",
    "print(response.content)"
   ]
  },
  {
   "cell_type": "code",
   "execution_count": null,
   "metadata": {},
   "outputs": [],
   "source": []
  }
 ],
 "metadata": {
  "kernelspec": {
   "display_name": "Python 3",
   "language": "python",
   "name": "python3"
  },
  "language_info": {
   "codemirror_mode": {
    "name": "ipython",
    "version": 3
   },
   "file_extension": ".py",
   "mimetype": "text/x-python",
   "name": "python",
   "nbconvert_exporter": "python",
   "pygments_lexer": "ipython3",
   "version": "3.6.5"
  }
 },
 "nbformat": 4,
 "nbformat_minor": 2
}
