{
 "cells": [
  {
   "cell_type": "code",
   "execution_count": 45,
   "metadata": {},
   "outputs": [
    {
     "name": "stdout",
     "output_type": "stream",
     "text": [
      "6 7\n",
      "7 6\n",
      "[56, 26, 17, 44, 31, 44, 20, 93]\n",
      "[20, 26, 17, 44, 31, 44, 56, 93]\n",
      "[20, 26, 17, 44, 31, 44]\n",
      "[93]\n",
      "1 2\n",
      "2 1\n",
      "[20, 17, 26, 44, 31, 44]\n",
      "[17, 20, 26, 44, 31, 44]\n",
      "[17]\n",
      "[26, 44, 31, 44]\n",
      "1 0\n",
      "[26, 44, 31, 44]\n",
      "[26, 44, 31, 44]\n",
      "[]\n",
      "[44, 31, 44]\n",
      "2 1\n",
      "[44, 31, 44]\n",
      "[31, 44, 44]\n",
      "[31]\n",
      "[44]\n",
      "[17, 20, 26, 31, 44, 44, 56, 93]\n"
     ]
    }
   ],
   "source": [
    "arr=[56,26,17,44,31,44,93,20]\n",
    "\n",
    "def quickSort(arr):\n",
    "    if(len(arr)<=1):\n",
    "        return arr\n",
    "    pivot=arr[0]\n",
    "    left=1\n",
    "    right=len(arr)-1\n",
    "    while(left <= right):\n",
    "        while(left <= right and arr[left] <pivot):\n",
    "            left=left+1\n",
    "        while( right >=left and arr[right]>=pivot):\n",
    "            right=right-1\n",
    "        print(left,right)\n",
    "        if(left<right):\n",
    "            swap=arr[left]\n",
    "            arr[left]=arr[right]\n",
    "            arr[right]=swap\n",
    "    print(arr)\n",
    "    pivot=arr[right]\n",
    "    arr[right]=arr[0]\n",
    "    arr[0]=pivot\n",
    "    print(arr)\n",
    "    print(arr[:right])\n",
    "    print(arr[(right+1):])\n",
    "    leftside=quickSort(arr[:right])\n",
    "    rightside=quickSort(arr[right+1:])\n",
    "    return leftside+[(arr[right])]+rightside\n",
    "print(quickSort(arr))\n",
    "\n",
    "    \n",
    "    \n",
    "            \n",
    "    "
   ]
  },
  {
   "cell_type": "code",
   "execution_count": 49,
   "metadata": {},
   "outputs": [
    {
     "name": "stdout",
     "output_type": "stream",
     "text": [
      "0 4\n",
      "4 8\n",
      "8 12\n",
      "12 16\n",
      "16 20\n"
     ]
    }
   ],
   "source": [
    "arr=[1, 5, 3, 4, 2]\n",
    "k=3\n",
    "arr.sort()\n",
    "left=0\n",
    "right=len(arr)-1\n",
    "while(left < right):\n",
    "    if(arr[right]-arr[left] > k):\n",
    "        right=right-1\n",
    "    if(arr[right]-arr[left] < k):\n",
    "        left=left+1\n",
    "    if(arr[right]-arr[left] == k):\n",
    "        print(arr[left],arr[right])\n",
    "        right=len(arr)-1\n",
    "        left=left+1"
   ]
  },
  {
   "cell_type": "code",
   "execution_count": 55,
   "metadata": {},
   "outputs": [
    {
     "name": "stdout",
     "output_type": "stream",
     "text": [
      "0 4\n",
      "4 8\n",
      "8 12\n",
      "12 16\n",
      "16 20\n"
     ]
    }
   ],
   "source": [
    "arr=[8, 12, 16, 4, 0, 20]\n",
    "k=4\n",
    "arr.sort()\n",
    "left=0\n",
    "right=0\n",
    "while(left < len(arr) and right <len(arr)):\n",
    "    if(arr[right]-arr[left] > k):\n",
    "        left=left+1\n",
    "    if(arr[right]-arr[left] < k):\n",
    "        right=right+1\n",
    "    if(arr[right]-arr[left] == k):\n",
    "        print(arr[left],arr[right])\n",
    "        right=right+1\n",
    "        left=left+1"
   ]
  },
  {
   "cell_type": "code",
   "execution_count": 107,
   "metadata": {},
   "outputs": [
    {
     "name": "stdout",
     "output_type": "stream",
     "text": [
      "[[1, 2, 3, 4], [5, 6, 7, 8], [9, 10, 11, 12], [13, 14, 15, 16]]\n",
      "0\n",
      "0 0 3 3\n",
      "[[4, 2, 3, 1], [5, 6, 7, 8], [9, 10, 11, 12], [13, 14, 15, 16]]\n",
      "[[16, 2, 3, 1], [5, 6, 7, 8], [9, 10, 11, 12], [13, 14, 15, 4]]\n",
      "[[13, 2, 3, 1], [5, 6, 7, 8], [9, 10, 11, 12], [16, 14, 15, 4]]\n",
      "0 1 2 2\n",
      "[[13, 8, 3, 1], [5, 6, 7, 2], [9, 10, 11, 12], [16, 14, 15, 4]]\n",
      "[[13, 15, 3, 1], [5, 6, 7, 2], [9, 10, 11, 12], [16, 14, 8, 4]]\n",
      "[[13, 9, 3, 1], [5, 6, 7, 2], [15, 10, 11, 12], [16, 14, 8, 4]]\n",
      "0 2 1 1\n",
      "[[13, 9, 12, 1], [5, 6, 7, 2], [15, 10, 11, 3], [16, 14, 8, 4]]\n",
      "[[13, 9, 14, 1], [5, 6, 7, 2], [15, 10, 11, 3], [16, 12, 8, 4]]\n",
      "[[13, 9, 5, 1], [14, 6, 7, 2], [15, 10, 11, 3], [16, 12, 8, 4]]\n",
      "[[13, 9, 5, 1], [14, 6, 7, 2], [15, 10, 11, 3], [16, 12, 8, 4]]\n",
      "1\n",
      "1 1 3 3\n",
      "[[13, 9, 5, 1], [14, 7, 6, 2], [15, 10, 11, 3], [16, 12, 8, 4]]\n",
      "[[13, 9, 5, 1], [14, 11, 6, 2], [15, 10, 7, 3], [16, 12, 8, 4]]\n",
      "[[13, 9, 5, 1], [14, 10, 6, 2], [15, 11, 7, 3], [16, 12, 8, 4]]\n",
      "[[13, 9, 5, 1], [14, 10, 6, 2], [15, 11, 7, 3], [16, 12, 8, 4]]\n"
     ]
    }
   ],
   "source": [
    "arr=[[1,2,3,4],[5,6,7,8],[9,10,11,12],[13,14,15,16]]\n",
    "\n",
    "\n",
    "        \n",
    "\n",
    "def rotateBy90(arr,clockwise=True):\n",
    "    if(clockwise):\n",
    "        if(len(arr)==1):\n",
    "            return arr\n",
    "        for i in range(int(len(arr)/2)):\n",
    "            print(arr)\n",
    "            print(i)\n",
    "            n=int(len(arr)/2)\n",
    "            for j in range(i,int(len(arr)/2)+1-i):\n",
    "                swap=0\n",
    "                print(i,j,i+len(arr)-1-j,i+len(arr)-1-j)\n",
    "                swap = arr[j][len(arr)-1-i] \n",
    "                arr[j][len(arr)-1-i] =arr[i][j]\n",
    "                arr[i][j]=swap\n",
    "                print(arr)\n",
    "                swap=arr[len(arr)-1-i][len(arr)-1-j]\n",
    "                arr[len(arr)-1-i][len(arr)-1-j]=arr[i][j]\n",
    "                arr[i][j]=swap\n",
    "                print(arr)\n",
    "                swap=arr[len(arr)-1-j][i]\n",
    "                arr[len(arr)-1-j][i]=arr[i][j]\n",
    "                arr[i][j]=swap\n",
    "                print(arr)\n",
    "rotateBy90(arr)\n",
    "print(arr)"
   ]
  },
  {
   "cell_type": "code",
   "execution_count": 122,
   "metadata": {},
   "outputs": [
    {
     "name": "stdout",
     "output_type": "stream",
     "text": [
      "[['A'], ['A', 'C'], ['B'], ['B', 'C'], ['A', 'B'], ['A', 'B', 'C'], []]\n"
     ]
    }
   ],
   "source": [
    "input=[\"A\",\"B\",\"C\"]\n",
    "\n",
    "def powerSetExternal(input):\n",
    "    listofsets=powerSet(input)\n",
    "    listofsets.append([])\n",
    "    return listofsets\n",
    "\n",
    "def powerSet(input):\n",
    "    listofsets=[]\n",
    "    if (len(input)==0):\n",
    "        return\n",
    "    if(len(input)==1):\n",
    "        listofsets.append([input])\n",
    "        return listofsets\n",
    "    if(len(input)==2):\n",
    "        listofsets.append([input[0]])\n",
    "        listofsets.append([input[1]])\n",
    "        listofsets.append([input[0],input[1]])\n",
    "    else:\n",
    "        for subset in powerSet(input[:-1]):\n",
    "            listofsets.append(subset)\n",
    "            listofsets.append(subset+[input[-1]])\n",
    "    return listofsets\n",
    "\n",
    "print(powerSetExternal(input))"
   ]
  },
  {
   "cell_type": "code",
   "execution_count": null,
   "metadata": {},
   "outputs": [],
   "source": []
  }
 ],
 "metadata": {
  "kernelspec": {
   "display_name": "Python 3",
   "language": "python",
   "name": "python3"
  },
  "language_info": {
   "codemirror_mode": {
    "name": "ipython",
    "version": 3
   },
   "file_extension": ".py",
   "mimetype": "text/x-python",
   "name": "python",
   "nbconvert_exporter": "python",
   "pygments_lexer": "ipython3",
   "version": "3.6.5"
  }
 },
 "nbformat": 4,
 "nbformat_minor": 2
}
