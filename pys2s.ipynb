{
 "cells": [
  {
   "cell_type": "code",
   "execution_count": 66,
   "metadata": {},
   "outputs": [],
   "source": [
    "import requests\n",
    "import json\n",
    "import os\n",
    "import struct\n",
    "import binascii\n",
    "\n",
    "class pyNifi(object):\n",
    "    def __init__(self,host,port):\n",
    "        self.host=host\n",
    "        self.port=port\n",
    "        self.input_ports=[]\n",
    "        self.__lists2sPorts()\n",
    "        #self.crc=binascii.crc32('')\n",
    "    \n",
    "    \n",
    "    def __lists2sPorts(self):\n",
    "        resp = requests.get(\"http://{}:{}/nifi-api/site-to-site\".format(self.host,self.port))\n",
    "        s2sresponse = json.loads(resp.content)\n",
    "        controller = s2sresponse['controller']\n",
    "        for inputPort in controller['inputPorts']:\n",
    "            self.input_ports.append(inputPort)\n",
    "    \n",
    "    def chunkData(self,filename,attributes):\n",
    "        data=None\n",
    "        totalsize = os.path.getsize(filename)\n",
    "        if(attributes!=None):\n",
    "            data= struct.pack(\">i\",int(len(attributes)))\n",
    "            for k,v in attributes.iteritems():\n",
    "                data+= struct.pack(\">i\",int(len(k)))\n",
    "                data+= k\n",
    "                data+= struct.pack(\">i\",int(len(v)))\n",
    "                value = v\n",
    "                data+= value\n",
    "            data+=struct.pack(\">q\",longtotalsize)\n",
    "            self.crc=binascii.crc32(data,self.crc)\n",
    "            yield data\n",
    "        else:\n",
    "            data=struct.pack(\"i\",0)\n",
    "            data+=struct.pack(\">q\",totalsize)\n",
    "            self.crc=binascii.crc32(data,self.crc)\n",
    "            yield data\n",
    "        chunked_len=0\n",
    "        with open(filename, 'rb') as file:\n",
    "            while True:\n",
    "                chunk = file.read(16000)\n",
    "                self.crc=binascii.crc32(chunk,self.crc)\n",
    "                if chunked_len >=totalsize:\n",
    "                    break\n",
    "                chunked_len=chunked_len+len(chunk)\n",
    "                yield chunk\n",
    "    \n",
    "    def sendFile(self,filename,portName,attributes=None):\n",
    "        s2sPortId=None\n",
    "        self.crc=binascii.crc32(bytearray())\n",
    "        for inputPort in self.input_ports:\n",
    "            if inputPort['name']==portName:\n",
    "                if(inputPort['state']!='RUNNING'):\n",
    "                    raise ValueError('The specified input-port {} was found but is not enabled'.format(portName))\n",
    "                s2sPortId=inputPort['id']\n",
    "                break;\n",
    "        if(s2sPortId==None):\n",
    "            raise ValueError('The specified input-port {} was not found'.format(portName))\n",
    "        base_url=\"http://{}:{}/nifi-api/data-transfer/input-ports/{}/transactions\".format(self.host,self.port,s2sPortId)\n",
    "        headers={}\n",
    "        \n",
    "        headers['x-nifi-site-to-site-protocol-version']='3'\n",
    "        response = requests.post(base_url\n",
    "                            ,headers=headers)\n",
    "        jresp = json.loads(response.content)\n",
    "        trxId = jresp['message'].split(':')[-1]\n",
    "        headers['content-Type']='application/octet-stream'\n",
    "        response = requests.post(\"{}/{}/flow-files\".format(base_url,trxId)\n",
    "                            ,stream=True,headers=headers,\n",
    "                            data=self.chunkData(filename,attributes))\n",
    "        if(response.status_code==202 or response.status_code==200):\n",
    "            tr_conf=response.content\n",
    "            if(tr_conf.decode(\"utf-8\")==str(self.crc)):\n",
    "                response = requests.delete(\"{}/{}?responseCode=12\".format(base_url,trxId)\n",
    "                ,headers=headers)\n",
    "                if(response.status_code==200):\n",
    "                    print(\"The file {} was successfully sent to {} with checksum match {}\".format(filename,portName,tr_conf))\n",
    "            else:\n",
    "                response = requests.delete(\"{}/{}?responseCode=19\".format(base_url,trxId)\n",
    "                ,headers=headers)\n",
    "                if(response.status_code==200):\n",
    "                    print (\"The file {} was successfully sent received checksum {} did not match {}, trasaction was deleted with BAD_CHECKSUM\".format(filename,self.crc,tr_conf))\n",
    "        else:\n",
    "            print (\"There was an error failed sending {} to {}\".format(filename,portName))\n",
    "            tr_error = response.content\n",
    "            response = requests.delete(\"{}/{}?responseCode=15\".format(base_url,trxId)\n",
    "            ,headers=headers)"
   ]
  },
  {
   "cell_type": "code",
   "execution_count": 68,
   "metadata": {},
   "outputs": [
    {
     "name": "stdout",
     "output_type": "stream",
     "text": [
      "The file /Users/knarayanan/testfile was successfully sent to customers with checksum match b'2700806731'\n"
     ]
    }
   ],
   "source": [
    "pynifi = pyNifi('localhost',9090)\n",
    "pynifi.sendFile(\"/Users/knarayanan/testfile\",\"customers\")"
   ]
  },
  {
   "cell_type": "code",
   "execution_count": null,
   "metadata": {},
   "outputs": [],
   "source": []
  }
 ],
 "metadata": {
  "kernelspec": {
   "display_name": "Python 3",
   "language": "python",
   "name": "python3"
  },
  "language_info": {
   "codemirror_mode": {
    "name": "ipython",
    "version": 3
   },
   "file_extension": ".py",
   "mimetype": "text/x-python",
   "name": "python",
   "nbconvert_exporter": "python",
   "pygments_lexer": "ipython3",
   "version": "3.6.5"
  }
 },
 "nbformat": 4,
 "nbformat_minor": 2
}
