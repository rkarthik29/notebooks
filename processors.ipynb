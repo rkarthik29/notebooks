{
 "cells": [
  {
   "cell_type": "code",
   "execution_count": 22,
   "metadata": {},
   "outputs": [],
   "source": [
    "import requests\n",
    "#get current status of the root flow, gets me all the processor . processorgroup status snapshots.\n",
    "r = requests.get(\"http://jrny-demo0.field.hortonworks.com:9090/nifi-api/flow/process-groups/root/status?recursive=true\")\n",
    "response=r.json()\n"
   ]
  },
  {
   "cell_type": "code",
   "execution_count": 21,
   "metadata": {},
   "outputs": [
    {
     "name": "stdout",
     "output_type": "stream",
     "text": [
      "66262568-0b79-3653-bf8c-b24bfc103e5cis stopped\n"
     ]
    }
   ],
   "source": [
    "\n",
    "for pgSS in response[\"processGroupStatus\"][\"aggregateSnapshot\"][\"processGroupStatusSnapshots\"]:\n",
    "    for prSS in pgSS[\"processGroupStatusSnapshot\"][\"processorStatusSnapshots\"]:\n",
    "        #loop over each processStatus and get is id and runSTatus\n",
    "        id=prSS[\"processorStatusSnapshot\"][\"id\"]\n",
    "        status=prSS[\"processorStatusSnapshot\"][\"runStatus\"]\n",
    "        if(status==\"Stopped\"):\n",
    "            #if a process status is stopped\n",
    "            if(id==\"66262568-0b79-3653-bf8c-b24bfc103e5c\"):\n",
    "                print(id+\"is stopped\")\n",
    "                #get processors current configuration, you could probably skip this step by creating a blankjson.\n",
    "                r=requests.get(\"http://jrny-demo0.field.hortonworks.com:9090/nifi-api/processors/\"+id)\n",
    "                resp=r.json()\n",
    "                #set the component state and status/runStatus to RUNNING\n",
    "                resp[\"component\"][\"state\"]=\"RUNNING\"\n",
    "                resp[\"status\"][\"runStatus\"]=\"RUNNING\"\n",
    "                #do a put with the update json,processor should now be in running state.\n",
    "                r = requests.put(\"http://jrny-demo0.field.hortonworks.com:9090/nifi-api/processors/\"+id,headers={'content-type': 'application/json'},json=resp)\n",
    "                #print(r.json())\n"
   ]
  },
  {
   "cell_type": "code",
   "execution_count": null,
   "metadata": {},
   "outputs": [],
   "source": []
  }
 ],
 "metadata": {
  "kernelspec": {
   "display_name": "Python 3",
   "language": "python",
   "name": "python3"
  },
  "language_info": {
   "codemirror_mode": {
    "name": "ipython",
    "version": 3
   },
   "file_extension": ".py",
   "mimetype": "text/x-python",
   "name": "python",
   "nbconvert_exporter": "python",
   "pygments_lexer": "ipython3",
   "version": "3.5.4"
  }
 },
 "nbformat": 4,
 "nbformat_minor": 2
}
