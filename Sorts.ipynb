{
 "cells": [
  {
   "cell_type": "code",
   "execution_count": 291,
   "metadata": {},
   "outputs": [
    {
     "name": "stdout",
     "output_type": "stream",
     "text": [
      "4\n"
     ]
    }
   ],
   "source": [
    "a=[78,7,3,0,12,45,67,34,76,98,2,6,12,45,67,4]\n",
    "#a=[0,2,3]\n",
    "#a=[1,3,4,5,2]\n",
    "#a=[12,6,7]\n",
    "print(a[-1])"
   ]
  },
  {
   "cell_type": "code",
   "execution_count": 273,
   "metadata": {},
   "outputs": [],
   "source": [
    "#quickSort\n",
    "def quickSort(a,i,j):\n",
    "    if(i<j):\n",
    "        p=partition(a,i,j)\n",
    "        #quickSort(a,i,p-1)\n",
    "        #quickSort(a,p+1,j)\n",
    "        \n",
    "    \n",
    "def partition(a,low,high):\n",
    "    i=low-1\n",
    "    pivot=a[high]\n",
    "    for j in range(low,high):\n",
    "        if(a[j]<=pivot):\n",
    "            i=i+1\n",
    "            a[j],a[i]=a[i],a[j]\n",
    "    a[i+1],a[high]=a[high],a[i+1]\n",
    "    return i+1\n",
    "          \n",
    "    "
   ]
  },
  {
   "cell_type": "code",
   "execution_count": 274,
   "metadata": {},
   "outputs": [],
   "source": [
    "quickSort(a,0,len(a)-1)"
   ]
  },
  {
   "cell_type": "code",
   "execution_count": 275,
   "metadata": {},
   "outputs": [
    {
     "name": "stdout",
     "output_type": "stream",
     "text": [
      "[3, 0, 2, 4, 12, 45, 67, 34, 76, 98, 78, 6, 12, 45, 67, 7]\n"
     ]
    }
   ],
   "source": [
    "print(a)"
   ]
  },
  {
   "cell_type": "code",
   "execution_count": 277,
   "metadata": {},
   "outputs": [
    {
     "data": {
      "text/plain": [
       "2200"
      ]
     },
     "execution_count": 277,
     "metadata": {},
     "output_type": "execute_result"
    }
   ],
   "source": [
    "a=200\n",
    "i=3\n",
    "2000 if i < 2 else a+2000"
   ]
  },
  {
   "cell_type": "code",
   "execution_count": 296,
   "metadata": {},
   "outputs": [],
   "source": [
    "arr=[3,7,4,6,5]\n",
    "\n",
    "\n",
    "def maxSubsetSum(arr):\n",
    "    dp = []\n",
    "    dp.append(arr[0])\n",
    "    dp.append(max(arr[:2]))\n",
    "    ans = max(dp)\n",
    "    for a in arr[2:]:\n",
    "        dp.append(max(max(dp[-2]+a, a), ans))\n",
    "        ans = max(ans, dp[-1])\n",
    "        print(dp)\n",
    "    print(ans)\n"
   ]
  },
  {
   "cell_type": "code",
   "execution_count": 297,
   "metadata": {},
   "outputs": [
    {
     "name": "stdout",
     "output_type": "stream",
     "text": [
      "[3, 7, 7]\n",
      "[3, 7, 7, 13]\n",
      "[3, 7, 7, 13, 13]\n",
      "13\n"
     ]
    }
   ],
   "source": [
    "maxSubsetSum(arr)"
   ]
  },
  {
   "cell_type": "code",
   "execution_count": null,
   "metadata": {},
   "outputs": [],
   "source": []
  }
 ],
 "metadata": {
  "kernelspec": {
   "display_name": "Python 3",
   "language": "python",
   "name": "python3"
  },
  "language_info": {
   "codemirror_mode": {
    "name": "ipython",
    "version": 3
   },
   "file_extension": ".py",
   "mimetype": "text/x-python",
   "name": "python",
   "nbconvert_exporter": "python",
   "pygments_lexer": "ipython3",
   "version": "3.6.5"
  }
 },
 "nbformat": 4,
 "nbformat_minor": 2
}
